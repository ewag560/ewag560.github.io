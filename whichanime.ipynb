{
 "cells": [
  {
   "cell_type": "markdown",
   "id": "weekly-compact",
   "metadata": {},
   "source": [
    "# Which Anime Should You Watch?"
   ]
  },
  {
   "cell_type": "markdown",
   "id": "periodic-legend",
   "metadata": {},
   "source": [
    "## Eric Wagner"
   ]
  },
  {
   "cell_type": "markdown",
   "id": "mental-closure",
   "metadata": {
    "scrolled": false
   },
   "source": [
    "## Introduction\n",
    "\n",
    "   Anime, a style of Japanese film and television animation, typically aimed at adults as well as children, has steadily grown in popularity in other parts of the world over the past few decades. This was especially true recently, after the Covid-19 pandemic, where [google trends](https://trends.google.com/trends/explore?date=today%205-y&q=anime) interest for the term nearly doubled in 2020. With so many new fans, who haven’t seen may series, and discussion tending to focus on the newly releasing series, it can be hard to find out which series are the most critically praised overall.\n",
    "    \n",
    "The best resource we can use to extract data related to this, would be the social networking website \n",
    "   [MyAnimeList](https://myanimelist.net/). MyAnimeList offers a list system for Anime organized based on user review scores. In this project I will separate, visualize, and analyze this list to draw conclusions about and try to predict the quality of a series."
   ]
  },
  {
   "cell_type": "markdown",
   "id": "mighty-boxing",
   "metadata": {},
   "source": [
    "## Data Collection\n",
    "\n",
    "    I will now import the necessary libraries to complete this tutorial"
   ]
  },
  {
   "cell_type": "code",
   "execution_count": 493,
   "id": "static-manhattan",
   "metadata": {
    "scrolled": true
   },
   "outputs": [],
   "source": [
    "import pandas as pd\n",
    "import matplotlib.pyplot as plt\n",
    "import numpy as np\n",
    "from sklearn import datasets, linear_model\n",
    "from sklearn.metrics import mean_squared_error, r2_score\n",
    "import seaborn as sns\n",
    "from scipy import stats\n",
    "import statsmodels.api as sm\n",
    "pd.options.mode.chained_assignment = None\n",
    "from matplotlib.axes._axes import _log as matplotlib_axes_logger\n",
    "matplotlib_axes_logger.setLevel('ERROR')"
   ]
  },
  {
   "cell_type": "markdown",
   "id": "descending-location",
   "metadata": {},
   "source": [
    "This list as already been extracted for us from MyAnimeList and is publicly available on [Kaggle](https://www.kaggle.com/CooperUnion/anime-recommendations-database).\n",
    "    \n",
    "We will use pandas to read the .csv"
   ]
  },
  {
   "cell_type": "code",
   "execution_count": 472,
   "id": "secure-bulletin",
   "metadata": {
    "scrolled": true
   },
   "outputs": [
    {
     "data": {
      "text/html": [
       "<div>\n",
       "<style scoped>\n",
       "    .dataframe tbody tr th:only-of-type {\n",
       "        vertical-align: middle;\n",
       "    }\n",
       "\n",
       "    .dataframe tbody tr th {\n",
       "        vertical-align: top;\n",
       "    }\n",
       "\n",
       "    .dataframe thead th {\n",
       "        text-align: right;\n",
       "    }\n",
       "</style>\n",
       "<table border=\"1\" class=\"dataframe\">\n",
       "  <thead>\n",
       "    <tr style=\"text-align: right;\">\n",
       "      <th></th>\n",
       "      <th>anime_id</th>\n",
       "      <th>name</th>\n",
       "      <th>genre</th>\n",
       "      <th>type</th>\n",
       "      <th>episodes</th>\n",
       "      <th>rating</th>\n",
       "      <th>members</th>\n",
       "    </tr>\n",
       "  </thead>\n",
       "  <tbody>\n",
       "    <tr>\n",
       "      <th>0</th>\n",
       "      <td>32281</td>\n",
       "      <td>Kimi no Na wa.</td>\n",
       "      <td>Drama, Romance, School, Supernatural</td>\n",
       "      <td>Movie</td>\n",
       "      <td>1</td>\n",
       "      <td>9.37</td>\n",
       "      <td>200630</td>\n",
       "    </tr>\n",
       "    <tr>\n",
       "      <th>1</th>\n",
       "      <td>5114</td>\n",
       "      <td>Fullmetal Alchemist: Brotherhood</td>\n",
       "      <td>Action, Adventure, Drama, Fantasy, Magic, Mili...</td>\n",
       "      <td>TV</td>\n",
       "      <td>64</td>\n",
       "      <td>9.26</td>\n",
       "      <td>793665</td>\n",
       "    </tr>\n",
       "    <tr>\n",
       "      <th>2</th>\n",
       "      <td>28977</td>\n",
       "      <td>Gintama°</td>\n",
       "      <td>Action, Comedy, Historical, Parody, Samurai, S...</td>\n",
       "      <td>TV</td>\n",
       "      <td>51</td>\n",
       "      <td>9.25</td>\n",
       "      <td>114262</td>\n",
       "    </tr>\n",
       "    <tr>\n",
       "      <th>3</th>\n",
       "      <td>9253</td>\n",
       "      <td>Steins;Gate</td>\n",
       "      <td>Sci-Fi, Thriller</td>\n",
       "      <td>TV</td>\n",
       "      <td>24</td>\n",
       "      <td>9.17</td>\n",
       "      <td>673572</td>\n",
       "    </tr>\n",
       "    <tr>\n",
       "      <th>4</th>\n",
       "      <td>9969</td>\n",
       "      <td>Gintama&amp;#039;</td>\n",
       "      <td>Action, Comedy, Historical, Parody, Samurai, S...</td>\n",
       "      <td>TV</td>\n",
       "      <td>51</td>\n",
       "      <td>9.16</td>\n",
       "      <td>151266</td>\n",
       "    </tr>\n",
       "  </tbody>\n",
       "</table>\n",
       "</div>"
      ],
      "text/plain": [
       "   anime_id                              name  \\\n",
       "0     32281                    Kimi no Na wa.   \n",
       "1      5114  Fullmetal Alchemist: Brotherhood   \n",
       "2     28977                          Gintama°   \n",
       "3      9253                       Steins;Gate   \n",
       "4      9969                     Gintama&#039;   \n",
       "\n",
       "                                               genre   type episodes  rating  \\\n",
       "0               Drama, Romance, School, Supernatural  Movie        1    9.37   \n",
       "1  Action, Adventure, Drama, Fantasy, Magic, Mili...     TV       64    9.26   \n",
       "2  Action, Comedy, Historical, Parody, Samurai, S...     TV       51    9.25   \n",
       "3                                   Sci-Fi, Thriller     TV       24    9.17   \n",
       "4  Action, Comedy, Historical, Parody, Samurai, S...     TV       51    9.16   \n",
       "\n",
       "   members  \n",
       "0   200630  \n",
       "1   793665  \n",
       "2   114262  \n",
       "3   673572  \n",
       "4   151266  "
      ]
     },
     "execution_count": 472,
     "metadata": {},
     "output_type": "execute_result"
    }
   ],
   "source": [
    "anime = pd.read_csv(\"anime.csv\")\n",
    "anime.head()"
   ]
  },
  {
   "cell_type": "markdown",
   "id": "dynamic-metropolitan",
   "metadata": {},
   "source": [
    "Since most anime are direct adaptations of some manga series (Japanese graphic novel), I will also be importing and looking at the data from the top 1000 rated manga, also listed on my anime list.\n",
    "\n",
    "This data has also already been extracted for us and is available on [kaggle](https://www.kaggle.com/astronautelvis/top-1000-ranked-mangas-by-myanimelist)."
   ]
  },
  {
   "cell_type": "code",
   "execution_count": 473,
   "id": "modular-award",
   "metadata": {},
   "outputs": [
    {
     "data": {
      "text/html": [
       "<div>\n",
       "<style scoped>\n",
       "    .dataframe tbody tr th:only-of-type {\n",
       "        vertical-align: middle;\n",
       "    }\n",
       "\n",
       "    .dataframe tbody tr th {\n",
       "        vertical-align: top;\n",
       "    }\n",
       "\n",
       "    .dataframe thead th {\n",
       "        text-align: right;\n",
       "    }\n",
       "</style>\n",
       "<table border=\"1\" class=\"dataframe\">\n",
       "  <thead>\n",
       "    <tr style=\"text-align: right;\">\n",
       "      <th></th>\n",
       "      <th>Unnamed: 0</th>\n",
       "      <th>Title</th>\n",
       "      <th>Title_Synonym</th>\n",
       "      <th>Title_Japanese</th>\n",
       "      <th>Status</th>\n",
       "      <th>Volumns</th>\n",
       "      <th>Chapters</th>\n",
       "      <th>Publishing</th>\n",
       "      <th>Rank</th>\n",
       "      <th>Score</th>\n",
       "      <th>Scored_by</th>\n",
       "      <th>Popularity</th>\n",
       "      <th>Memebers</th>\n",
       "      <th>Favorites</th>\n",
       "      <th>Synopsis</th>\n",
       "      <th>Publish_period</th>\n",
       "      <th>Genre</th>\n",
       "    </tr>\n",
       "  </thead>\n",
       "  <tbody>\n",
       "    <tr>\n",
       "      <th>0</th>\n",
       "      <td>0</td>\n",
       "      <td>Berserk</td>\n",
       "      <td>Berserk</td>\n",
       "      <td>ベルセルク</td>\n",
       "      <td>Publishing</td>\n",
       "      <td>unkown</td>\n",
       "      <td>unkown</td>\n",
       "      <td>True</td>\n",
       "      <td>1</td>\n",
       "      <td>9.39</td>\n",
       "      <td>201756</td>\n",
       "      <td>2</td>\n",
       "      <td>427894</td>\n",
       "      <td>80308</td>\n",
       "      <td>Guts, a former mercenary now known as the \"Bla...</td>\n",
       "      <td>Aug  25, 1989 to present</td>\n",
       "      <td>'Action', 'Adventure', 'Demons', 'Drama', 'Fan...</td>\n",
       "    </tr>\n",
       "    <tr>\n",
       "      <th>1</th>\n",
       "      <td>1</td>\n",
       "      <td>JoJo no Kimyou na Bouken Part 7: Steel Ball Run</td>\n",
       "      <td>unkown</td>\n",
       "      <td>ジョジョの奇妙な冒険 Part7 STEEL BALL RUN</td>\n",
       "      <td>Finished</td>\n",
       "      <td>24.0</td>\n",
       "      <td>96.0</td>\n",
       "      <td>False</td>\n",
       "      <td>2</td>\n",
       "      <td>9.23</td>\n",
       "      <td>94427</td>\n",
       "      <td>29</td>\n",
       "      <td>160782</td>\n",
       "      <td>27459</td>\n",
       "      <td>In the American Old West, the world's greatest...</td>\n",
       "      <td>Jan  19, 2004 to Apr  19, 2011</td>\n",
       "      <td>'Action', 'Adventure', 'Mystery', 'Historical'...</td>\n",
       "    </tr>\n",
       "    <tr>\n",
       "      <th>2</th>\n",
       "      <td>2</td>\n",
       "      <td>One Piece</td>\n",
       "      <td>One Piece</td>\n",
       "      <td>ONE PIECE</td>\n",
       "      <td>Publishing</td>\n",
       "      <td>unkown</td>\n",
       "      <td>unkown</td>\n",
       "      <td>True</td>\n",
       "      <td>3</td>\n",
       "      <td>9.15</td>\n",
       "      <td>249936</td>\n",
       "      <td>3</td>\n",
       "      <td>410522</td>\n",
       "      <td>82310</td>\n",
       "      <td>Gol D. Roger, a man referred to as the \"Pirate...</td>\n",
       "      <td>Jul  22, 1997 to present</td>\n",
       "      <td>'Action', 'Adventure', 'Comedy', 'Fantasy', 'S...</td>\n",
       "    </tr>\n",
       "    <tr>\n",
       "      <th>3</th>\n",
       "      <td>3</td>\n",
       "      <td>Vagabond</td>\n",
       "      <td>Vagabond</td>\n",
       "      <td>バガボンド</td>\n",
       "      <td>On Hiatus</td>\n",
       "      <td>37.0</td>\n",
       "      <td>327.0</td>\n",
       "      <td>False</td>\n",
       "      <td>4</td>\n",
       "      <td>9.13</td>\n",
       "      <td>72613</td>\n",
       "      <td>19</td>\n",
       "      <td>211345</td>\n",
       "      <td>21596</td>\n",
       "      <td>In 16th century Japan, Shinmen Takezou is a wi...</td>\n",
       "      <td>Sep  3, 1998 to May  21, 2015</td>\n",
       "      <td>'Action', 'Adventure', 'Drama', 'Historical', ...</td>\n",
       "    </tr>\n",
       "    <tr>\n",
       "      <th>4</th>\n",
       "      <td>4</td>\n",
       "      <td>Monster</td>\n",
       "      <td>Monster</td>\n",
       "      <td>MONSTER</td>\n",
       "      <td>Finished</td>\n",
       "      <td>18.0</td>\n",
       "      <td>162.0</td>\n",
       "      <td>False</td>\n",
       "      <td>5</td>\n",
       "      <td>9.10</td>\n",
       "      <td>57801</td>\n",
       "      <td>33</td>\n",
       "      <td>148764</td>\n",
       "      <td>13049</td>\n",
       "      <td>Kenzou Tenma, a renowned Japanese neurosurgeon...</td>\n",
       "      <td>Dec  5, 1994 to Dec  20, 2001</td>\n",
       "      <td>'Mystery', 'Drama', 'Psychological', 'Seinen'</td>\n",
       "    </tr>\n",
       "  </tbody>\n",
       "</table>\n",
       "</div>"
      ],
      "text/plain": [
       "   Unnamed: 0                                            Title Title_Synonym  \\\n",
       "0           0                                          Berserk       Berserk   \n",
       "1           1  JoJo no Kimyou na Bouken Part 7: Steel Ball Run        unkown   \n",
       "2           2                                        One Piece     One Piece   \n",
       "3           3                                         Vagabond      Vagabond   \n",
       "4           4                                          Monster       Monster   \n",
       "\n",
       "                    Title_Japanese      Status Volumns Chapters  Publishing  \\\n",
       "0                            ベルセルク  Publishing  unkown   unkown        True   \n",
       "1  ジョジョの奇妙な冒険 Part7 STEEL BALL RUN    Finished    24.0     96.0       False   \n",
       "2                        ONE PIECE  Publishing  unkown   unkown        True   \n",
       "3                            バガボンド   On Hiatus    37.0    327.0       False   \n",
       "4                          MONSTER    Finished    18.0    162.0       False   \n",
       "\n",
       "   Rank  Score  Scored_by  Popularity  Memebers  Favorites  \\\n",
       "0     1   9.39     201756           2    427894      80308   \n",
       "1     2   9.23      94427          29    160782      27459   \n",
       "2     3   9.15     249936           3    410522      82310   \n",
       "3     4   9.13      72613          19    211345      21596   \n",
       "4     5   9.10      57801          33    148764      13049   \n",
       "\n",
       "                                            Synopsis  \\\n",
       "0  Guts, a former mercenary now known as the \"Bla...   \n",
       "1  In the American Old West, the world's greatest...   \n",
       "2  Gol D. Roger, a man referred to as the \"Pirate...   \n",
       "3  In 16th century Japan, Shinmen Takezou is a wi...   \n",
       "4  Kenzou Tenma, a renowned Japanese neurosurgeon...   \n",
       "\n",
       "                   Publish_period  \\\n",
       "0        Aug  25, 1989 to present   \n",
       "1  Jan  19, 2004 to Apr  19, 2011   \n",
       "2        Jul  22, 1997 to present   \n",
       "3   Sep  3, 1998 to May  21, 2015   \n",
       "4   Dec  5, 1994 to Dec  20, 2001   \n",
       "\n",
       "                                               Genre  \n",
       "0  'Action', 'Adventure', 'Demons', 'Drama', 'Fan...  \n",
       "1  'Action', 'Adventure', 'Mystery', 'Historical'...  \n",
       "2  'Action', 'Adventure', 'Comedy', 'Fantasy', 'S...  \n",
       "3  'Action', 'Adventure', 'Drama', 'Historical', ...  \n",
       "4      'Mystery', 'Drama', 'Psychological', 'Seinen'  "
      ]
     },
     "execution_count": 473,
     "metadata": {},
     "output_type": "execute_result"
    }
   ],
   "source": [
    "manga = pd.read_csv(\"top_1000.csv\")\n",
    "manga.head()"
   ]
  },
  {
   "cell_type": "markdown",
   "id": "american-fossil",
   "metadata": {},
   "source": [
    "## Tidying the Data\n",
    "    Because we have over 12,000 entries, we can significantly cut down the data to draw more accurate conclusions. First, we will remove the entries classified as Movie or OVA as they are mostly supplemental material to existing series.\n",
    "    \n",
    "    We will also only be looking at series which have a corresponding manga of the same name in the manga table. This allows us to find out new information such as the age of the source material. Also, the success of an ongoing manga can predict the future content and success of an anime.\n",
    "    \n",
    "    Upon merging, we remove entries with duplicate names, caused by a series having both a newer and older anime adaptation. This can inflate the entries for more popular and highly rated series\n",
    "    \n",
    "    Next, we remove the columns with duplicate or irrelevant information and rename the columns reflecting popularity and ratings to make the data more readable.\n",
    "    \n",
    "    I noticed some of the entries we were left with had missing values in the Anime_Score column. After removing this we are left with 243 entries that we are interested in.\n",
    "    "
   ]
  },
  {
   "cell_type": "code",
   "execution_count": 474,
   "id": "classified-mixture",
   "metadata": {
    "scrolled": true
   },
   "outputs": [
    {
     "data": {
      "text/html": [
       "<div>\n",
       "<style scoped>\n",
       "    .dataframe tbody tr th:only-of-type {\n",
       "        vertical-align: middle;\n",
       "    }\n",
       "\n",
       "    .dataframe tbody tr th {\n",
       "        vertical-align: top;\n",
       "    }\n",
       "\n",
       "    .dataframe thead th {\n",
       "        text-align: right;\n",
       "    }\n",
       "</style>\n",
       "<table border=\"1\" class=\"dataframe\">\n",
       "  <thead>\n",
       "    <tr style=\"text-align: right;\">\n",
       "      <th></th>\n",
       "      <th>name</th>\n",
       "      <th>genre</th>\n",
       "      <th>type</th>\n",
       "      <th>episodes</th>\n",
       "      <th>Anime_Score</th>\n",
       "      <th>Anime_Popularity</th>\n",
       "      <th>Status</th>\n",
       "      <th>Chapters</th>\n",
       "      <th>Manga_Score</th>\n",
       "      <th>Manga_Popularity</th>\n",
       "      <th>Publish_period</th>\n",
       "    </tr>\n",
       "  </thead>\n",
       "  <tbody>\n",
       "    <tr>\n",
       "      <th>1</th>\n",
       "      <td>Steins;Gate</td>\n",
       "      <td>Sci-Fi, Thriller</td>\n",
       "      <td>TV</td>\n",
       "      <td>24</td>\n",
       "      <td>9.17</td>\n",
       "      <td>673572</td>\n",
       "      <td>Finished</td>\n",
       "      <td>17.0</td>\n",
       "      <td>8.47</td>\n",
       "      <td>8851</td>\n",
       "      <td>Jun  30, 2011 to May  31, 2012</td>\n",
       "    </tr>\n",
       "    <tr>\n",
       "      <th>6</th>\n",
       "      <td>Gintama</td>\n",
       "      <td>Action, Comedy, Historical, Parody, Samurai, S...</td>\n",
       "      <td>TV</td>\n",
       "      <td>201</td>\n",
       "      <td>9.04</td>\n",
       "      <td>336376</td>\n",
       "      <td>Finished</td>\n",
       "      <td>709.0</td>\n",
       "      <td>8.59</td>\n",
       "      <td>77732</td>\n",
       "      <td>Dec  8, 2003 to Jun  20, 2019</td>\n",
       "    </tr>\n",
       "    <tr>\n",
       "      <th>7</th>\n",
       "      <td>Shigatsu wa Kimi no Uso</td>\n",
       "      <td>Drama, Music, Romance, School, Shounen</td>\n",
       "      <td>TV</td>\n",
       "      <td>22</td>\n",
       "      <td>8.92</td>\n",
       "      <td>416397</td>\n",
       "      <td>Finished</td>\n",
       "      <td>44.0</td>\n",
       "      <td>8.62</td>\n",
       "      <td>66115</td>\n",
       "      <td>Apr  6, 2011 to Feb  6, 2015</td>\n",
       "    </tr>\n",
       "    <tr>\n",
       "      <th>10</th>\n",
       "      <td>Code Geass: Hangyaku no Lelouch</td>\n",
       "      <td>Action, Mecha, Military, School, Sci-Fi, Super...</td>\n",
       "      <td>TV</td>\n",
       "      <td>25</td>\n",
       "      <td>8.83</td>\n",
       "      <td>715151</td>\n",
       "      <td>Finished</td>\n",
       "      <td>28.0</td>\n",
       "      <td>7.98</td>\n",
       "      <td>3553</td>\n",
       "      <td>Apr  28, 2007 to Mar  1, 2008</td>\n",
       "    </tr>\n",
       "    <tr>\n",
       "      <th>11</th>\n",
       "      <td>Hajime no Ippo</td>\n",
       "      <td>Comedy, Drama, Shounen, Sports</td>\n",
       "      <td>TV</td>\n",
       "      <td>75</td>\n",
       "      <td>8.83</td>\n",
       "      <td>157670</td>\n",
       "      <td>Publishing</td>\n",
       "      <td>unkown</td>\n",
       "      <td>8.67</td>\n",
       "      <td>60661</td>\n",
       "      <td>Sep  27, 1989 to present</td>\n",
       "    </tr>\n",
       "  </tbody>\n",
       "</table>\n",
       "</div>"
      ],
      "text/plain": [
       "                               name  \\\n",
       "1                       Steins;Gate   \n",
       "6                           Gintama   \n",
       "7           Shigatsu wa Kimi no Uso   \n",
       "10  Code Geass: Hangyaku no Lelouch   \n",
       "11                   Hajime no Ippo   \n",
       "\n",
       "                                                genre type episodes  \\\n",
       "1                                    Sci-Fi, Thriller   TV       24   \n",
       "6   Action, Comedy, Historical, Parody, Samurai, S...   TV      201   \n",
       "7              Drama, Music, Romance, School, Shounen   TV       22   \n",
       "10  Action, Mecha, Military, School, Sci-Fi, Super...   TV       25   \n",
       "11                     Comedy, Drama, Shounen, Sports   TV       75   \n",
       "\n",
       "    Anime_Score  Anime_Popularity      Status Chapters  Manga_Score  \\\n",
       "1          9.17            673572    Finished     17.0         8.47   \n",
       "6          9.04            336376    Finished    709.0         8.59   \n",
       "7          8.92            416397    Finished     44.0         8.62   \n",
       "10         8.83            715151    Finished     28.0         7.98   \n",
       "11         8.83            157670  Publishing   unkown         8.67   \n",
       "\n",
       "    Manga_Popularity                  Publish_period  \n",
       "1               8851  Jun  30, 2011 to May  31, 2012  \n",
       "6              77732   Dec  8, 2003 to Jun  20, 2019  \n",
       "7              66115    Apr  6, 2011 to Feb  6, 2015  \n",
       "10              3553   Apr  28, 2007 to Mar  1, 2008  \n",
       "11             60661        Sep  27, 1989 to present  "
      ]
     },
     "execution_count": 474,
     "metadata": {},
     "output_type": "execute_result"
    }
   ],
   "source": [
    "manga = pd.read_csv(\"top_1000.csv\")\n",
    "manga = manga.rename(columns={\"Title\":\"name\"})\n",
    "ani = pd.merge(anime,manga, on=\"name\")\n",
    "ani = ani.drop_duplicates(subset=['name'])\n",
    "ani = ani.loc[ani[\"type\"]==\"TV\"]\n",
    "ani = ani.drop(columns=['Unnamed: 0', 'Title_Synonym', 'Title_Japanese', 'anime_id', 'Volumns',\n",
    "                        'Rank','Genre','Synopsis','Popularity','Scored_by', 'Favorites', 'Publishing'])\n",
    "ani = ani.rename(columns={\"members\": \"Anime_Popularity\", \"Memebers\": \"Manga_Popularity\", \n",
    "                   \"rating\": \"Anime_Score\", \"Score\": \"Manga_Score\"})\n",
    "ani = ani.drop(ani.index[[243,244,245,246,247,248,249]])\n",
    "ani.head()"
   ]
  },
  {
   "cell_type": "markdown",
   "id": "scenic-chapel",
   "metadata": {},
   "source": [
    "    This list may see less valuable now as many of the top-rated series have been removed, however reducing the data in this way will give us more uniform data to draw conclusions from."
   ]
  },
  {
   "cell_type": "markdown",
   "id": "stuck-donna",
   "metadata": {},
   "source": [
    "## Data Visualization and Analysis\n",
    "In order to draw information from this data I first chose to use seaborn to plot [regression](https://en.wikipedia.org/wiki/Regression_analysis) models to see what had the biggest effect on an animes success\n",
    "    \n",
    "First I plotted the animes score and popularity."
   ]
  },
  {
   "cell_type": "code",
   "execution_count": 475,
   "id": "friendly-ordinance",
   "metadata": {
    "scrolled": true
   },
   "outputs": [
    {
     "name": "stdout",
     "output_type": "stream",
     "text": [
      "AxesSubplot(0.125,0.125;0.775x0.755)\n",
      "0.46631314049656414\n"
     ]
    },
    {
     "data": {
      "image/png": "[encoded data removed]",
      "text/plain": [
       "<Figure size 576x360 with 1 Axes>"
      ]
     },
     "metadata": {},
     "output_type": "display_data"
    }
   ],
   "source": [
    "slope, intercept, r_value, p_value, std_err = stats.linregress(ani['Anime_Score'],ani['Anime_Popularity'])\n",
    "print(sns.regplot(x=\"Anime_Popularity\",y=\"Anime_Score\",data=ani))\n",
    "print(r_value)"
   ]
  },
  {
   "cell_type": "markdown",
   "id": "inappropriate-albert",
   "metadata": {},
   "source": [
    "    This shows an expected positive correlation between a series popularity and rating. I also printed the correlation coefficient to get an idea of how well the data can predict values given one of the two attributes. Since the coefficient was only 0.466, not very close to 1, we will explore other regressions."
   ]
  },
  {
   "cell_type": "markdown",
   "id": "twenty-mustang",
   "metadata": {},
   "source": [
    "    To check for a correlation between anime and manga, I decided to make a similar plot but for the popularity of the given manga instead of anime."
   ]
  },
  {
   "cell_type": "code",
   "execution_count": 476,
   "id": "chronic-spiritual",
   "metadata": {
    "scrolled": true
   },
   "outputs": [
    {
     "name": "stdout",
     "output_type": "stream",
     "text": [
      "AxesSubplot(0.125,0.125;0.775x0.755)\n",
      "0.4509364936227405\n"
     ]
    },
    {
     "data": {
      "image/png": "[encoded data removed]",
      "text/plain": [
       "<Figure size 576x360 with 1 Axes>"
      ]
     },
     "metadata": {},
     "output_type": "display_data"
    }
   ],
   "source": [
    "slope, intercept, r_value, p_value, std_err = stats.linregress(ani['Manga_Score'],ani['Manga_Popularity'])\n",
    "print(sns.regplot(x=\"Manga_Popularity\",y=\"Anime_Score\",data=ani))\n",
    "print(r_value)"
   ]
  },
  {
   "cell_type": "markdown",
   "id": "answering-consciousness",
   "metadata": {},
   "source": [
    "    This provides a similar graph except that the data is more centralized around less popular entries. This makes sense as manga series more prevalent and easier to produce than anime so many series remain unpopular until they get an anime.\n",
    "    \n",
    "    Despite this, the correlation coefficient, being 0.4509, was very similar to the one for anime popularity, suggesting and strong correlation between anime and manga.\n",
    "    \n",
    "    To show this, I choose to plot the score of a series' anime vs manga."
   ]
  },
  {
   "cell_type": "code",
   "execution_count": 477,
   "id": "national-bargain",
   "metadata": {
    "scrolled": true
   },
   "outputs": [
    {
     "name": "stdout",
     "output_type": "stream",
     "text": [
      "AxesSubplot(0.125,0.125;0.775x0.755)\n",
      "0.5581690744429807\n"
     ]
    },
    {
     "data": {
      "image/png": "[encoded data removed]",
      "text/plain": [
       "<Figure size 576x360 with 1 Axes>"
      ]
     },
     "metadata": {},
     "output_type": "display_data"
    }
   ],
   "source": [
    "slope, intercept, r_value, p_value, std_err = stats.linregress(ani['Anime_Score'],ani['Manga_Score'])\n",
    "print(sns.regplot(x=\"Manga_Score\",y=\"Anime_Score\",data=ani))\n",
    "print(r_value)"
   ]
  },
  {
   "cell_type": "markdown",
   "id": "another-coupon",
   "metadata": {},
   "source": [
    "    The graph provides a greater correlation coefficient, and a closer linear relation than the previous two. This suggests the best single value to predict an anime rating is its manga rating. "
   ]
  },
  {
   "cell_type": "markdown",
   "id": "surprised-fountain",
   "metadata": {
    "scrolled": true
   },
   "source": [
    "    I will now explore the effect of other variables on review score.\n",
    "\n",
    "    \n",
    "    The genres are provided as comma seperated values so I first used the split command to extract each genre and store them as a list, and then the explode command to add a repeat entry for each series for each genre it falls under. This will allow us to have more detailed and accurate graphs. "
   ]
  },
  {
   "cell_type": "code",
   "execution_count": 478,
   "id": "developing-bangkok",
   "metadata": {
    "scrolled": true
   },
   "outputs": [
    {
     "data": {
      "text/html": [
       "<div>\n",
       "<style scoped>\n",
       "    .dataframe tbody tr th:only-of-type {\n",
       "        vertical-align: middle;\n",
       "    }\n",
       "\n",
       "    .dataframe tbody tr th {\n",
       "        vertical-align: top;\n",
       "    }\n",
       "\n",
       "    .dataframe thead th {\n",
       "        text-align: right;\n",
       "    }\n",
       "</style>\n",
       "<table border=\"1\" class=\"dataframe\">\n",
       "  <thead>\n",
       "    <tr style=\"text-align: right;\">\n",
       "      <th></th>\n",
       "      <th>name</th>\n",
       "      <th>genre</th>\n",
       "      <th>type</th>\n",
       "      <th>episodes</th>\n",
       "      <th>Anime_Score</th>\n",
       "      <th>Anime_Popularity</th>\n",
       "      <th>Status</th>\n",
       "      <th>Chapters</th>\n",
       "      <th>Manga_Score</th>\n",
       "      <th>Manga_Popularity</th>\n",
       "      <th>Publish_period</th>\n",
       "    </tr>\n",
       "  </thead>\n",
       "  <tbody>\n",
       "    <tr>\n",
       "      <th>1</th>\n",
       "      <td>Steins;Gate</td>\n",
       "      <td>Sci-Fi</td>\n",
       "      <td>TV</td>\n",
       "      <td>24</td>\n",
       "      <td>9.17</td>\n",
       "      <td>673572</td>\n",
       "      <td>Finished</td>\n",
       "      <td>17.0</td>\n",
       "      <td>8.47</td>\n",
       "      <td>8851</td>\n",
       "      <td>Jun  30, 2011 to May  31, 2012</td>\n",
       "    </tr>\n",
       "    <tr>\n",
       "      <th>1</th>\n",
       "      <td>Steins;Gate</td>\n",
       "      <td>Thriller</td>\n",
       "      <td>TV</td>\n",
       "      <td>24</td>\n",
       "      <td>9.17</td>\n",
       "      <td>673572</td>\n",
       "      <td>Finished</td>\n",
       "      <td>17.0</td>\n",
       "      <td>8.47</td>\n",
       "      <td>8851</td>\n",
       "      <td>Jun  30, 2011 to May  31, 2012</td>\n",
       "    </tr>\n",
       "    <tr>\n",
       "      <th>6</th>\n",
       "      <td>Gintama</td>\n",
       "      <td>Action</td>\n",
       "      <td>TV</td>\n",
       "      <td>201</td>\n",
       "      <td>9.04</td>\n",
       "      <td>336376</td>\n",
       "      <td>Finished</td>\n",
       "      <td>709.0</td>\n",
       "      <td>8.59</td>\n",
       "      <td>77732</td>\n",
       "      <td>Dec  8, 2003 to Jun  20, 2019</td>\n",
       "    </tr>\n",
       "    <tr>\n",
       "      <th>6</th>\n",
       "      <td>Gintama</td>\n",
       "      <td>Comedy</td>\n",
       "      <td>TV</td>\n",
       "      <td>201</td>\n",
       "      <td>9.04</td>\n",
       "      <td>336376</td>\n",
       "      <td>Finished</td>\n",
       "      <td>709.0</td>\n",
       "      <td>8.59</td>\n",
       "      <td>77732</td>\n",
       "      <td>Dec  8, 2003 to Jun  20, 2019</td>\n",
       "    </tr>\n",
       "    <tr>\n",
       "      <th>6</th>\n",
       "      <td>Gintama</td>\n",
       "      <td>Historical</td>\n",
       "      <td>TV</td>\n",
       "      <td>201</td>\n",
       "      <td>9.04</td>\n",
       "      <td>336376</td>\n",
       "      <td>Finished</td>\n",
       "      <td>709.0</td>\n",
       "      <td>8.59</td>\n",
       "      <td>77732</td>\n",
       "      <td>Dec  8, 2003 to Jun  20, 2019</td>\n",
       "    </tr>\n",
       "  </tbody>\n",
       "</table>\n",
       "</div>"
      ],
      "text/plain": [
       "          name       genre type episodes  Anime_Score  Anime_Popularity  \\\n",
       "1  Steins;Gate      Sci-Fi   TV       24         9.17            673572   \n",
       "1  Steins;Gate    Thriller   TV       24         9.17            673572   \n",
       "6      Gintama      Action   TV      201         9.04            336376   \n",
       "6      Gintama      Comedy   TV      201         9.04            336376   \n",
       "6      Gintama  Historical   TV      201         9.04            336376   \n",
       "\n",
       "     Status Chapters  Manga_Score  Manga_Popularity  \\\n",
       "1  Finished     17.0         8.47              8851   \n",
       "1  Finished     17.0         8.47              8851   \n",
       "6  Finished    709.0         8.59             77732   \n",
       "6  Finished    709.0         8.59             77732   \n",
       "6  Finished    709.0         8.59             77732   \n",
       "\n",
       "                   Publish_period  \n",
       "1  Jun  30, 2011 to May  31, 2012  \n",
       "1  Jun  30, 2011 to May  31, 2012  \n",
       "6   Dec  8, 2003 to Jun  20, 2019  \n",
       "6   Dec  8, 2003 to Jun  20, 2019  \n",
       "6   Dec  8, 2003 to Jun  20, 2019  "
      ]
     },
     "execution_count": 478,
     "metadata": {},
     "output_type": "execute_result"
    }
   ],
   "source": [
    "ani['genre'] = ani['genre'].str.split(', ')\n",
    "anig = ani.explode('genre')\n",
    "anig.head()"
   ]
  },
  {
   "cell_type": "markdown",
   "id": "reduced-salon",
   "metadata": {},
   "source": [
    "To show the effect of genre, I chose to create a [violin plot](https://en.wikipedia.org/wiki/Violin_plot) to see the distribution of reviews for some of the most popular genres."
   ]
  },
  {
   "cell_type": "code",
   "execution_count": 479,
   "id": "guilty-exemption",
   "metadata": {
    "scrolled": false
   },
   "outputs": [
    {
     "data": {
      "text/plain": [
       "<AxesSubplot:xlabel='genre', ylabel='Anime_Score'>"
      ]
     },
     "execution_count": 479,
     "metadata": {},
     "output_type": "execute_result"
    },
    {
     "data": {
      "image/png": "[encoded data removed]",
      "text/plain": [
       "<Figure size 576x360 with 1 Axes>"
      ]
     },
     "metadata": {},
     "output_type": "display_data"
    }
   ],
   "source": [
    "sns.set(rc = {'figure.figsize':(8,5)})\n",
    "sns.violinplot(data=anig[anig['genre'].isin(['Action', 'Thriller', 'Comedy', 'Romance','Mystery','Adventure','Horror'])],\n",
    "               x='genre', y='Anime_Score')"
   ]
  },
  {
   "cell_type": "markdown",
   "id": "natural-mirror",
   "metadata": {},
   "source": [
    "    This shows that review scores for different series tend to center around an 8.0 score, however they do vary to some extend based on their genre.\n",
    "    This data can reflect the young and male audience of anime, liking adventure more than romance, but also limitations of the medium, struggling to portray horror as well as a live action show."
   ]
  },
  {
   "cell_type": "markdown",
   "id": "wrong-payroll",
   "metadata": {},
   "source": [
    "    Next I will be looking at how the year a manga was published effects an animes review score\n",
    "    \n",
    "    Because the publish time is provided as a date we must extract the year to graph the year as a number\n",
    "    \n",
    "    Some entries gave the publish time in a differnt format, so we had to drop the entries that ended up with nan values"
   ]
  },
  {
   "cell_type": "code",
   "execution_count": 480,
   "id": "wireless-infrastructure",
   "metadata": {
    "scrolled": true
   },
   "outputs": [],
   "source": [
    "ani[\"Publish_period\"] = ani[\"Publish_period\"].str.split(',').str[1]\n",
    "ani[\"Publish_period\"] = ani[\"Publish_period\"].str.slice(stop=5)\n",
    "ani = ani.dropna()\n",
    "ani['Publish_period'] = pd.to_numeric(ani['Publish_period'])"
   ]
  },
  {
   "cell_type": "markdown",
   "id": "legislative-particle",
   "metadata": {},
   "source": [
    "    I will now plot the values in a scatter plot to see a potential relationship"
   ]
  },
  {
   "cell_type": "code",
   "execution_count": 481,
   "id": "grateful-schema",
   "metadata": {
    "scrolled": false
   },
   "outputs": [
    {
     "data": {
      "text/plain": [
       "<AxesSubplot:xlabel='Publish_period', ylabel='Anime_Score'>"
      ]
     },
     "execution_count": 481,
     "metadata": {},
     "output_type": "execute_result"
    },
    {
     "data": {
      "image/png": "[encoded data removed]",
      "text/plain": [
       "<Figure size 576x360 with 1 Axes>"
      ]
     },
     "metadata": {},
     "output_type": "display_data"
    }
   ],
   "source": [
    "ani.plot.scatter(x=\"Publish_period\",y=\"Anime_Score\")"
   ]
  },
  {
   "cell_type": "markdown",
   "id": "criminal-guarantee",
   "metadata": {},
   "source": [
    "    There seems to be little to no relationship between release date and review score so we will not look that this value   any longer"
   ]
  },
  {
   "cell_type": "markdown",
   "id": "occupied-perth",
   "metadata": {},
   "source": [
    "    Next I will look into the relation ship between the number of episdoes and the score of the show \n",
    "    \n",
    "    Because we have some missing data here, we first have to reduce our data set"
   ]
  },
  {
   "cell_type": "code",
   "execution_count": 482,
   "id": "finished-agent",
   "metadata": {
    "scrolled": true
   },
   "outputs": [],
   "source": [
    "aniep = ani.loc[ani['episodes'] != 'Unknown']\n",
    "aniep['episodes'] = pd.to_numeric(aniep['episodes'])"
   ]
  },
  {
   "cell_type": "code",
   "execution_count": 483,
   "id": "recreational-control",
   "metadata": {
    "scrolled": true
   },
   "outputs": [
    {
     "data": {
      "text/plain": [
       "<AxesSubplot:xlabel='episodes', ylabel='Anime_Score'>"
      ]
     },
     "execution_count": 483,
     "metadata": {},
     "output_type": "execute_result"
    },
    {
     "data": {
      "image/png": "[encoded data removed]",
      "text/plain": [
       "<Figure size 576x360 with 1 Axes>"
      ]
     },
     "metadata": {},
     "output_type": "display_data"
    }
   ],
   "source": [
    "aniep.plot.scatter(x=\"episodes\",y=\"Anime_Score\")"
   ]
  },
  {
   "cell_type": "markdown",
   "id": "alike-contributor",
   "metadata": {},
   "source": [
    "        This most noticealbe thing about this data is how the epiodes are centered around 12 and 24. That is because those are the typical lengths of seasons for anime.\n",
    "        \n",
    "        Based on this plot there does seem to be a slight positive linear relationship so I will go ahead and map the       regression plot"
   ]
  },
  {
   "cell_type": "code",
   "execution_count": 484,
   "id": "animated-deposit",
   "metadata": {},
   "outputs": [
    {
     "name": "stdout",
     "output_type": "stream",
     "text": [
      "AxesSubplot(0.125,0.125;0.775x0.755)\n",
      "0.2345639778963854\n"
     ]
    },
    {
     "data": {
      "image/png": "[encoded data removed]",
      "text/plain": [
       "<Figure size 576x360 with 1 Axes>"
      ]
     },
     "metadata": {},
     "output_type": "display_data"
    }
   ],
   "source": [
    "slope, intercept, r_value, p_value, std_err = stats.linregress(aniep['Anime_Score'],aniep['episodes'])\n",
    "print(sns.regplot(x=\"episodes\",y=\"Anime_Score\",data=aniep))\n",
    "print(r_value)"
   ]
  },
  {
   "cell_type": "markdown",
   "id": "adjusted-marks",
   "metadata": {},
   "source": [
    "    With a correlation coefficent of only 0.2345, a correlation is definitly present. However, we should likely not use this data to predict any values as it is not the best fit for the data and we are practically more intersted in predicting the quality of series that havent gotten as many episodes yet, as longer series are already more discussed and reviewed on the internet."
   ]
  },
  {
   "cell_type": "markdown",
   "id": "national-memphis",
   "metadata": {},
   "source": [
    "       Another piece of data that we can draw form this table is the pacing of a given anime. Diferent portions of differnt manga have been animated but we may be able to see some trend when we compare chapters/episodes and review scores"
   ]
  },
  {
   "cell_type": "code",
   "execution_count": 485,
   "id": "lovely-sharp",
   "metadata": {},
   "outputs": [],
   "source": [
    "aniep = aniep.loc[aniep['Chapters'] != 'unkown']\n",
    "aniep['Chapters'] = pd.to_numeric(aniep['Chapters'])"
   ]
  },
  {
   "cell_type": "code",
   "execution_count": 486,
   "id": "bored-flooring",
   "metadata": {},
   "outputs": [
    {
     "data": {
      "text/html": [
       "<div>\n",
       "<style scoped>\n",
       "    .dataframe tbody tr th:only-of-type {\n",
       "        vertical-align: middle;\n",
       "    }\n",
       "\n",
       "    .dataframe tbody tr th {\n",
       "        vertical-align: top;\n",
       "    }\n",
       "\n",
       "    .dataframe thead th {\n",
       "        text-align: right;\n",
       "    }\n",
       "</style>\n",
       "<table border=\"1\" class=\"dataframe\">\n",
       "  <thead>\n",
       "    <tr style=\"text-align: right;\">\n",
       "      <th></th>\n",
       "      <th>name</th>\n",
       "      <th>genre</th>\n",
       "      <th>type</th>\n",
       "      <th>episodes</th>\n",
       "      <th>Anime_Score</th>\n",
       "      <th>Anime_Popularity</th>\n",
       "      <th>Status</th>\n",
       "      <th>Chapters</th>\n",
       "      <th>Manga_Score</th>\n",
       "      <th>Manga_Popularity</th>\n",
       "      <th>Publish_period</th>\n",
       "      <th>pacing</th>\n",
       "    </tr>\n",
       "  </thead>\n",
       "  <tbody>\n",
       "    <tr>\n",
       "      <th>1</th>\n",
       "      <td>Steins;Gate</td>\n",
       "      <td>[Sci-Fi, Thriller]</td>\n",
       "      <td>TV</td>\n",
       "      <td>24</td>\n",
       "      <td>9.17</td>\n",
       "      <td>673572</td>\n",
       "      <td>Finished</td>\n",
       "      <td>17.0</td>\n",
       "      <td>8.47</td>\n",
       "      <td>8851</td>\n",
       "      <td>2011</td>\n",
       "      <td>0.708333</td>\n",
       "    </tr>\n",
       "    <tr>\n",
       "      <th>6</th>\n",
       "      <td>Gintama</td>\n",
       "      <td>[Action, Comedy, Historical, Parody, Samurai, ...</td>\n",
       "      <td>TV</td>\n",
       "      <td>201</td>\n",
       "      <td>9.04</td>\n",
       "      <td>336376</td>\n",
       "      <td>Finished</td>\n",
       "      <td>709.0</td>\n",
       "      <td>8.59</td>\n",
       "      <td>77732</td>\n",
       "      <td>2003</td>\n",
       "      <td>3.527363</td>\n",
       "    </tr>\n",
       "    <tr>\n",
       "      <th>7</th>\n",
       "      <td>Shigatsu wa Kimi no Uso</td>\n",
       "      <td>[Drama, Music, Romance, School, Shounen]</td>\n",
       "      <td>TV</td>\n",
       "      <td>22</td>\n",
       "      <td>8.92</td>\n",
       "      <td>416397</td>\n",
       "      <td>Finished</td>\n",
       "      <td>44.0</td>\n",
       "      <td>8.62</td>\n",
       "      <td>66115</td>\n",
       "      <td>2011</td>\n",
       "      <td>2.000000</td>\n",
       "    </tr>\n",
       "    <tr>\n",
       "      <th>10</th>\n",
       "      <td>Code Geass: Hangyaku no Lelouch</td>\n",
       "      <td>[Action, Mecha, Military, School, Sci-Fi, Supe...</td>\n",
       "      <td>TV</td>\n",
       "      <td>25</td>\n",
       "      <td>8.83</td>\n",
       "      <td>715151</td>\n",
       "      <td>Finished</td>\n",
       "      <td>28.0</td>\n",
       "      <td>7.98</td>\n",
       "      <td>3553</td>\n",
       "      <td>2007</td>\n",
       "      <td>1.120000</td>\n",
       "    </tr>\n",
       "    <tr>\n",
       "      <th>12</th>\n",
       "      <td>Monogatari Series: Second Season</td>\n",
       "      <td>[Comedy, Mystery, Romance, Supernatural, Vampire]</td>\n",
       "      <td>TV</td>\n",
       "      <td>26</td>\n",
       "      <td>8.80</td>\n",
       "      <td>205959</td>\n",
       "      <td>Finished</td>\n",
       "      <td>199.0</td>\n",
       "      <td>8.91</td>\n",
       "      <td>17057</td>\n",
       "      <td>2010</td>\n",
       "      <td>7.653846</td>\n",
       "    </tr>\n",
       "  </tbody>\n",
       "</table>\n",
       "</div>"
      ],
      "text/plain": [
       "                                name  \\\n",
       "1                        Steins;Gate   \n",
       "6                            Gintama   \n",
       "7            Shigatsu wa Kimi no Uso   \n",
       "10   Code Geass: Hangyaku no Lelouch   \n",
       "12  Monogatari Series: Second Season   \n",
       "\n",
       "                                                genre type  episodes  \\\n",
       "1                                  [Sci-Fi, Thriller]   TV        24   \n",
       "6   [Action, Comedy, Historical, Parody, Samurai, ...   TV       201   \n",
       "7            [Drama, Music, Romance, School, Shounen]   TV        22   \n",
       "10  [Action, Mecha, Military, School, Sci-Fi, Supe...   TV        25   \n",
       "12  [Comedy, Mystery, Romance, Supernatural, Vampire]   TV        26   \n",
       "\n",
       "    Anime_Score  Anime_Popularity    Status  Chapters  Manga_Score  \\\n",
       "1          9.17            673572  Finished      17.0         8.47   \n",
       "6          9.04            336376  Finished     709.0         8.59   \n",
       "7          8.92            416397  Finished      44.0         8.62   \n",
       "10         8.83            715151  Finished      28.0         7.98   \n",
       "12         8.80            205959  Finished     199.0         8.91   \n",
       "\n",
       "    Manga_Popularity  Publish_period    pacing  \n",
       "1               8851            2011  0.708333  \n",
       "6              77732            2003  3.527363  \n",
       "7              66115            2011  2.000000  \n",
       "10              3553            2007  1.120000  \n",
       "12             17057            2010  7.653846  "
      ]
     },
     "execution_count": 486,
     "metadata": {},
     "output_type": "execute_result"
    }
   ],
   "source": [
    "aniep[\"pacing\"] = aniep[\"Chapters\"]/aniep[\"episodes\"]\n",
    "aniep.head()"
   ]
  },
  {
   "cell_type": "code",
   "execution_count": 487,
   "id": "ordinary-request",
   "metadata": {
    "scrolled": true
   },
   "outputs": [
    {
     "name": "stdout",
     "output_type": "stream",
     "text": [
      "AxesSubplot(0.125,0.125;0.775x0.755)\n",
      "-0.22291818891579643\n"
     ]
    },
    {
     "data": {
      "image/png": "[encoded data removed]",
      "text/plain": [
       "<Figure size 576x360 with 1 Axes>"
      ]
     },
     "metadata": {},
     "output_type": "display_data"
    }
   ],
   "source": [
    "slope, intercept, r_value, p_value, std_err = stats.linregress(aniep['Anime_Score'],aniep['pacing'])\n",
    "print(sns.regplot(x=\"pacing\",y=\"Anime_Score\",data=aniep))\n",
    "print(r_value)"
   ]
  },
  {
   "cell_type": "markdown",
   "id": "surface-infrastructure",
   "metadata": {},
   "source": [
    "    This did not proove to be an effective predictor of review score. The disparity of the pacing from partially completed series, and a correlation coefficient of -0.22 makes the data too difficult to draw any conclutions from"
   ]
  },
  {
   "cell_type": "markdown",
   "id": "circular-floating",
   "metadata": {},
   "source": [
    "## Regression Anlaysis\n",
    "I will now apply [Ordinary Least Squares](https://en.wikipedia.org/wiki/Ordinary_least_squares) linear regression from scikit learn to predict an animes review score based on the mangas score and genres\n",
    "\n",
    "First, I fit a regression to the manga score and all of the genres. This would be hard to use to predict values because it expects a parameter for every genre. However, by using the sort_values() command I am able to rank the genres of anime by their relation to review score."
   ]
  },
  {
   "cell_type": "code",
   "execution_count": 488,
   "id": "liberal-techno",
   "metadata": {
    "scrolled": false
   },
   "outputs": [
    {
     "data": {
      "text/html": [
       "<div>\n",
       "<style scoped>\n",
       "    .dataframe tbody tr th:only-of-type {\n",
       "        vertical-align: middle;\n",
       "    }\n",
       "\n",
       "    .dataframe tbody tr th {\n",
       "        vertical-align: top;\n",
       "    }\n",
       "\n",
       "    .dataframe thead th {\n",
       "        text-align: right;\n",
       "    }\n",
       "</style>\n",
       "<table border=\"1\" class=\"dataframe\">\n",
       "  <thead>\n",
       "    <tr style=\"text-align: right;\">\n",
       "      <th></th>\n",
       "      <th>Coefficient</th>\n",
       "    </tr>\n",
       "  </thead>\n",
       "  <tbody>\n",
       "    <tr>\n",
       "      <th>genre_Shoujo Ai</th>\n",
       "      <td>-0.406784</td>\n",
       "    </tr>\n",
       "    <tr>\n",
       "      <th>genre_Horror</th>\n",
       "      <td>-0.304419</td>\n",
       "    </tr>\n",
       "    <tr>\n",
       "      <th>genre_Shounen Ai</th>\n",
       "      <td>-0.299860</td>\n",
       "    </tr>\n",
       "    <tr>\n",
       "      <th>genre_Kids</th>\n",
       "      <td>-0.275771</td>\n",
       "    </tr>\n",
       "    <tr>\n",
       "      <th>genre_Harem</th>\n",
       "      <td>-0.165987</td>\n",
       "    </tr>\n",
       "    <tr>\n",
       "      <th>genre_Military</th>\n",
       "      <td>-0.148066</td>\n",
       "    </tr>\n",
       "    <tr>\n",
       "      <th>genre_Shoujo</th>\n",
       "      <td>-0.092842</td>\n",
       "    </tr>\n",
       "    <tr>\n",
       "      <th>genre_Vampire</th>\n",
       "      <td>-0.091262</td>\n",
       "    </tr>\n",
       "    <tr>\n",
       "      <th>genre_Demons</th>\n",
       "      <td>-0.088646</td>\n",
       "    </tr>\n",
       "    <tr>\n",
       "      <th>genre_Magic</th>\n",
       "      <td>-0.087957</td>\n",
       "    </tr>\n",
       "    <tr>\n",
       "      <th>genre_Samurai</th>\n",
       "      <td>-0.083672</td>\n",
       "    </tr>\n",
       "    <tr>\n",
       "      <th>genre_Supernatural</th>\n",
       "      <td>-0.081421</td>\n",
       "    </tr>\n",
       "    <tr>\n",
       "      <th>genre_Fantasy</th>\n",
       "      <td>-0.075925</td>\n",
       "    </tr>\n",
       "    <tr>\n",
       "      <th>genre_Action</th>\n",
       "      <td>-0.046851</td>\n",
       "    </tr>\n",
       "    <tr>\n",
       "      <th>genre_Adventure</th>\n",
       "      <td>-0.043191</td>\n",
       "    </tr>\n",
       "    <tr>\n",
       "      <th>genre_Ecchi</th>\n",
       "      <td>-0.019616</td>\n",
       "    </tr>\n",
       "    <tr>\n",
       "      <th>genre_Romance</th>\n",
       "      <td>-0.018470</td>\n",
       "    </tr>\n",
       "    <tr>\n",
       "      <th>genre_Seinen</th>\n",
       "      <td>-0.001753</td>\n",
       "    </tr>\n",
       "    <tr>\n",
       "      <th>genre_Drama</th>\n",
       "      <td>0.007089</td>\n",
       "    </tr>\n",
       "    <tr>\n",
       "      <th>genre_Mystery</th>\n",
       "      <td>0.016305</td>\n",
       "    </tr>\n",
       "    <tr>\n",
       "      <th>genre_Super Power</th>\n",
       "      <td>0.028950</td>\n",
       "    </tr>\n",
       "    <tr>\n",
       "      <th>genre_Game</th>\n",
       "      <td>0.036072</td>\n",
       "    </tr>\n",
       "    <tr>\n",
       "      <th>genre_Psychological</th>\n",
       "      <td>0.039985</td>\n",
       "    </tr>\n",
       "    <tr>\n",
       "      <th>genre_Sci-Fi</th>\n",
       "      <td>0.052083</td>\n",
       "    </tr>\n",
       "    <tr>\n",
       "      <th>genre_Comedy</th>\n",
       "      <td>0.053066</td>\n",
       "    </tr>\n",
       "    <tr>\n",
       "      <th>genre_Slice of Life</th>\n",
       "      <td>0.059504</td>\n",
       "    </tr>\n",
       "    <tr>\n",
       "      <th>genre_Shounen</th>\n",
       "      <td>0.065068</td>\n",
       "    </tr>\n",
       "    <tr>\n",
       "      <th>genre_Mecha</th>\n",
       "      <td>0.067934</td>\n",
       "    </tr>\n",
       "    <tr>\n",
       "      <th>genre_School</th>\n",
       "      <td>0.069837</td>\n",
       "    </tr>\n",
       "    <tr>\n",
       "      <th>genre_Sports</th>\n",
       "      <td>0.073482</td>\n",
       "    </tr>\n",
       "    <tr>\n",
       "      <th>genre_Parody</th>\n",
       "      <td>0.076579</td>\n",
       "    </tr>\n",
       "    <tr>\n",
       "      <th>genre_Historical</th>\n",
       "      <td>0.086688</td>\n",
       "    </tr>\n",
       "    <tr>\n",
       "      <th>genre_Josei</th>\n",
       "      <td>0.094532</td>\n",
       "    </tr>\n",
       "    <tr>\n",
       "      <th>genre_Cars</th>\n",
       "      <td>0.116177</td>\n",
       "    </tr>\n",
       "    <tr>\n",
       "      <th>genre_Dementia</th>\n",
       "      <td>0.118410</td>\n",
       "    </tr>\n",
       "    <tr>\n",
       "      <th>genre_Martial Arts</th>\n",
       "      <td>0.175329</td>\n",
       "    </tr>\n",
       "    <tr>\n",
       "      <th>genre_Space</th>\n",
       "      <td>0.230315</td>\n",
       "    </tr>\n",
       "    <tr>\n",
       "      <th>genre_Police</th>\n",
       "      <td>0.238478</td>\n",
       "    </tr>\n",
       "    <tr>\n",
       "      <th>genre_Music</th>\n",
       "      <td>0.309393</td>\n",
       "    </tr>\n",
       "    <tr>\n",
       "      <th>genre_Thriller</th>\n",
       "      <td>0.317220</td>\n",
       "    </tr>\n",
       "    <tr>\n",
       "      <th>Manga_Score</th>\n",
       "      <td>0.799543</td>\n",
       "    </tr>\n",
       "  </tbody>\n",
       "</table>\n",
       "</div>"
      ],
      "text/plain": [
       "                     Coefficient\n",
       "genre_Shoujo Ai        -0.406784\n",
       "genre_Horror           -0.304419\n",
       "genre_Shounen Ai       -0.299860\n",
       "genre_Kids             -0.275771\n",
       "genre_Harem            -0.165987\n",
       "genre_Military         -0.148066\n",
       "genre_Shoujo           -0.092842\n",
       "genre_Vampire          -0.091262\n",
       "genre_Demons           -0.088646\n",
       "genre_Magic            -0.087957\n",
       "genre_Samurai          -0.083672\n",
       "genre_Supernatural     -0.081421\n",
       "genre_Fantasy          -0.075925\n",
       "genre_Action           -0.046851\n",
       "genre_Adventure        -0.043191\n",
       "genre_Ecchi            -0.019616\n",
       "genre_Romance          -0.018470\n",
       "genre_Seinen           -0.001753\n",
       "genre_Drama             0.007089\n",
       "genre_Mystery           0.016305\n",
       "genre_Super Power       0.028950\n",
       "genre_Game              0.036072\n",
       "genre_Psychological     0.039985\n",
       "genre_Sci-Fi            0.052083\n",
       "genre_Comedy            0.053066\n",
       "genre_Slice of Life     0.059504\n",
       "genre_Shounen           0.065068\n",
       "genre_Mecha             0.067934\n",
       "genre_School            0.069837\n",
       "genre_Sports            0.073482\n",
       "genre_Parody            0.076579\n",
       "genre_Historical        0.086688\n",
       "genre_Josei             0.094532\n",
       "genre_Cars              0.116177\n",
       "genre_Dementia          0.118410\n",
       "genre_Martial Arts      0.175329\n",
       "genre_Space             0.230315\n",
       "genre_Police            0.238478\n",
       "genre_Music             0.309393\n",
       "genre_Thriller          0.317220\n",
       "Manga_Score             0.799543"
      ]
     },
     "execution_count": 488,
     "metadata": {},
     "output_type": "execute_result"
    }
   ],
   "source": [
    "reg = linear_model.LinearRegression()\n",
    "X = pd.get_dummies(data=anig[['Manga_Score', 'genre']])\n",
    "y = anig['Anime_Score']\n",
    "reg.fit(X, y)\n",
    "coeff_parameter = pd.DataFrame(reg.coef_, X.columns, columns=['Coefficient'])\n",
    "coeff_parameter = coeff_parameter.sort_values(by =['Coefficient'])\n",
    "coeff_parameter"
   ]
  },
  {
   "cell_type": "markdown",
   "id": "elect-elizabeth",
   "metadata": {},
   "source": [
    "    This list can provide insight on what genres of anime are expected to be succesful and give someone ideas of type of series they may want to look into.\n",
    "    \n",
    "    I will now fit a new regression with 6 popular genres, and other relevant data including popularity, in order to judge the accuracy of the prediction."
   ]
  },
  {
   "cell_type": "code",
   "execution_count": 489,
   "id": "everyday-claim",
   "metadata": {
    "scrolled": false
   },
   "outputs": [
    {
     "data": {
      "text/html": [
       "<div>\n",
       "<style scoped>\n",
       "    .dataframe tbody tr th:only-of-type {\n",
       "        vertical-align: middle;\n",
       "    }\n",
       "\n",
       "    .dataframe tbody tr th {\n",
       "        vertical-align: top;\n",
       "    }\n",
       "\n",
       "    .dataframe thead th {\n",
       "        text-align: right;\n",
       "    }\n",
       "</style>\n",
       "<table border=\"1\" class=\"dataframe\">\n",
       "  <thead>\n",
       "    <tr style=\"text-align: right;\">\n",
       "      <th></th>\n",
       "      <th>Coefficient</th>\n",
       "    </tr>\n",
       "  </thead>\n",
       "  <tbody>\n",
       "    <tr>\n",
       "      <th>Anime_Popularity</th>\n",
       "      <td>8.595562e-07</td>\n",
       "    </tr>\n",
       "    <tr>\n",
       "      <th>Manga_Score</th>\n",
       "      <td>6.943989e-01</td>\n",
       "    </tr>\n",
       "    <tr>\n",
       "      <th>genre_Action</th>\n",
       "      <td>-4.109084e-02</td>\n",
       "    </tr>\n",
       "    <tr>\n",
       "      <th>genre_Adventure</th>\n",
       "      <td>-2.018277e-02</td>\n",
       "    </tr>\n",
       "    <tr>\n",
       "      <th>genre_Comedy</th>\n",
       "      <td>1.145609e-01</td>\n",
       "    </tr>\n",
       "    <tr>\n",
       "      <th>genre_Horror</th>\n",
       "      <td>-2.838110e-01</td>\n",
       "    </tr>\n",
       "    <tr>\n",
       "      <th>genre_Romance</th>\n",
       "      <td>3.030534e-02</td>\n",
       "    </tr>\n",
       "    <tr>\n",
       "      <th>genre_Thriller</th>\n",
       "      <td>2.002184e-01</td>\n",
       "    </tr>\n",
       "  </tbody>\n",
       "</table>\n",
       "</div>"
      ],
      "text/plain": [
       "                   Coefficient\n",
       "Anime_Popularity  8.595562e-07\n",
       "Manga_Score       6.943989e-01\n",
       "genre_Action     -4.109084e-02\n",
       "genre_Adventure  -2.018277e-02\n",
       "genre_Comedy      1.145609e-01\n",
       "genre_Horror     -2.838110e-01\n",
       "genre_Romance     3.030534e-02\n",
       "genre_Thriller    2.002184e-01"
      ]
     },
     "execution_count": 489,
     "metadata": {},
     "output_type": "execute_result"
    }
   ],
   "source": [
    "ani_reg = anig[anig['genre'].isin(['Thriller', 'Action', 'Comedy', 'Adventure','Horror','Romance'])]\n",
    "X = pd.get_dummies(data=ani_reg[['Anime_Popularity','Manga_Score', 'genre']])\n",
    "y = ani_reg['Anime_Score']\n",
    "reg.fit(X, y)\n",
    "coeff_parameter = pd.DataFrame(reg.coef_, X.columns, columns=['Coefficient'])\n",
    "coeff_parameter"
   ]
  },
  {
   "cell_type": "markdown",
   "id": "seasonal-portable",
   "metadata": {},
   "source": [
    "    Now, lets test our regression of series from the original table.\n",
    "    \n",
    "    Lets predict the score of Hajime no Ippo, a comedy with an 8.67 manga rating and 157670 reviews"
   ]
  },
  {
   "cell_type": "code",
   "execution_count": 490,
   "id": "surprised-lunch",
   "metadata": {
    "scrolled": true
   },
   "outputs": [
    {
     "data": {
      "text/plain": [
       "array([8.27812719])"
      ]
     },
     "execution_count": 490,
     "metadata": {},
     "output_type": "execute_result"
    }
   ],
   "source": [
    "reg.predict([[157670,8.67, 0,0,1,0,0,0]])"
   ]
  },
  {
   "cell_type": "markdown",
   "id": "durable-invasion",
   "metadata": {},
   "source": [
    "    The real review score of Hajime no Ippos anime is an 8.83. so the model is only somewhat accurate\n",
    "    \n",
    "    This is likely becuase Hajime no Ippo is a very old and popular series, with an inflated rating. Lets test a series from the middle of the list: Ajin"
   ]
  },
  {
   "cell_type": "code",
   "execution_count": 491,
   "id": "aquatic-zimbabwe",
   "metadata": {
    "scrolled": true
   },
   "outputs": [
    {
     "data": {
      "text/plain": [
       "array([7.61145853])"
      ]
     },
     "execution_count": 491,
     "metadata": {},
     "output_type": "execute_result"
    }
   ],
   "source": [
    "reg.predict([[160972,7.93, 1,0,0,0,0,0]])"
   ]
  },
  {
   "cell_type": "markdown",
   "id": "speaking-karen",
   "metadata": {},
   "source": [
    "   Now our prediction was much closer with a 7.611 when the real score is a 7.78\n",
    "   \n",
    "   I will now print the models coefficient of determination to have a better idea of the accuracy of the model"
   ]
  },
  {
   "cell_type": "code",
   "execution_count": 492,
   "id": "delayed-seminar",
   "metadata": {},
   "outputs": [
    {
     "data": {
      "text/plain": [
       "0.46829346998956956"
      ]
     },
     "execution_count": 492,
     "metadata": {},
     "output_type": "execute_result"
    }
   ],
   "source": [
    "reg.score(X, y)"
   ]
  },
  {
   "cell_type": "markdown",
   "id": "empirical-norway",
   "metadata": {},
   "source": [
    "    Since the model has a score of 0.4682 it is somewhat accurate at predicting review score"
   ]
  },
  {
   "cell_type": "markdown",
   "id": "medieval-immune",
   "metadata": {},
   "source": [
    "## Conclusions\n",
    "We have been able to draw many conclutions about what leads to an anime receiving a high review score.\n",
    "\n",
    "    1. Manga Scores have the strongest correlation to and animes scores of any value\n",
    "    2. Genres have a slight but valuble correlation to the score of an anime\n",
    "    3. The popularity of a series, both as anime and manga have a positive correlation to the review score of a series\n",
    "    4. The age of an anime does not have a noticable correlation to the score of an anime\n",
    "    5. Anime with more episodes tend to have higher review scores\n",
    "This is quite informative information when trying to make sense of the reviews on MyAnimeList. Knowing that the review score is reflective of the popularity, genre, and manga reviews of a series you can consider all of these things when looking at the list for a new series to watch. Also the ranking of the reviews of genres and be useful when trying to find a series to watch. Many people may not expect Historical or Comedy to be a perfered genre related to the reviews for an anime, and it may encourage them to try something new."
   ]
  },
  {
   "cell_type": "code",
   "execution_count": null,
   "id": "passing-emphasis",
   "metadata": {},
   "outputs": [],
   "source": []
  },
  {
   "cell_type": "code",
   "execution_count": null,
   "id": "endangered-circumstances",
   "metadata": {},
   "outputs": [],
   "source": []
  }
 ],
 "metadata": {
  "kernelspec": {
   "display_name": "Python 3",
   "language": "python",
   "name": "python3"
  },
  "language_info": {
   "codemirror_mode": {
    "name": "ipython",
    "version": 3
   },
   "file_extension": ".py",
   "mimetype": "text/x-python",
   "name": "python",
   "nbconvert_exporter": "python",
   "pygments_lexer": "ipython3",
   "version": "3.8.6"
  }
 },
 "nbformat": 4,
 "nbformat_minor": 5
}
